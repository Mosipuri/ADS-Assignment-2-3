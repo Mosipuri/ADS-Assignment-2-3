{
 "cells": [
  {
   "cell_type": "code",
   "execution_count": null,
   "id": "e5869280",
   "metadata": {},
   "outputs": [],
   "source": [
    "#Importing libraries\n",
    "\n",
    "import pandas as pd\n",
    "import numpy as np\n",
    "import plotly.express as px\n",
    "import plotly.graph_objects as go"
   ]
  },
  {
   "cell_type": "code",
   "execution_count": null,
   "id": "752f3b5e",
   "metadata": {},
   "outputs": [],
   "source": [
    "#Loading the data into a dataframe\n",
    "df = pd.read_csv(\"WA_Fn-UseC_-HR-Employee-Attrition.csv\")\n",
    "\n",
    "df.head(10)"
   ]
  },
  {
   "cell_type": "code",
   "execution_count": null,
   "id": "04922eae",
   "metadata": {
    "scrolled": false
   },
   "outputs": [],
   "source": [
    "#Examining the data\n",
    "\n",
    "df.info()"
   ]
  },
  {
   "cell_type": "code",
   "execution_count": null,
   "id": "fe25bc3f",
   "metadata": {},
   "outputs": [],
   "source": [
    "df.shape"
   ]
  },
  {
   "cell_type": "code",
   "execution_count": null,
   "id": "7cec8057",
   "metadata": {},
   "outputs": [],
   "source": [
    "df.describe()"
   ]
  },
  {
   "cell_type": "code",
   "execution_count": null,
   "id": "657ae09a",
   "metadata": {
    "scrolled": true
   },
   "outputs": [],
   "source": [
    "#Checking for missing values\n",
    "\n",
    "df.isna().sum()"
   ]
  },
  {
   "cell_type": "code",
   "execution_count": null,
   "id": "39be1012",
   "metadata": {},
   "outputs": [],
   "source": []
  },
  {
   "cell_type": "markdown",
   "id": "acb4c08c",
   "metadata": {},
   "source": [
    "#### there are no missing values in the data"
   ]
  },
  {
   "cell_type": "markdown",
   "id": "81e6a9b7",
   "metadata": {},
   "source": [
    "### Question 1: Show a breakdown of distance from home by job role and attrition."
   ]
  },
  {
   "cell_type": "code",
   "execution_count": null,
   "id": "50fd597f",
   "metadata": {
    "scrolled": true
   },
   "outputs": [],
   "source": [
    "df_1 = df.groupby([\"JobRole\", \"Attrition\"])[\"DistanceFromHome\"].sum().reset_index()\n",
    "df_1"
   ]
  },
  {
   "cell_type": "code",
   "execution_count": null,
   "id": "1aabfd3b",
   "metadata": {},
   "outputs": [],
   "source": [
    "df_1.JobRole.unique()"
   ]
  },
  {
   "cell_type": "code",
   "execution_count": null,
   "id": "4131c5ec",
   "metadata": {},
   "outputs": [],
   "source": [
    "df_1.columns"
   ]
  },
  {
   "cell_type": "markdown",
   "id": "0f3f81ec",
   "metadata": {},
   "source": [
    "### Visualizing from Q1"
   ]
  },
  {
   "cell_type": "code",
   "execution_count": null,
   "id": "2bf868a1",
   "metadata": {},
   "outputs": [],
   "source": [
    "fig = px.bar(df_1, x = \"JobRole\", y = \"DistanceFromHome\", barmode = \"group\",\n",
    "             hover_data =[\"JobRole\", \"Attrition\"], color = \"Attrition\", height = 400)\n",
    "\n",
    "fig.update_layout(legend = dict(bgcolor = \"LemonChiffon\", orientation = \"v\"), \n",
    "                  plot_bgcolor = \"LemonChiffon\")\n",
    "\n",
    "fig.update_layout(title = dict(text = \"Comparison of Distance From Home by Job Role and Attrition\",\n",
    "                                  font = dict(family = \"Balto\", color = \"DarkMagenta\", size = 26)))\n",
    "\n",
    "fig.update_xaxes(title_text = \"Job Role\", \n",
    "                 title_font_family = \"Arial\", \n",
    "                 title_font_size = 15,\n",
    "                 title_font_color = \"DarkMagenta\")\n",
    "\n",
    "fig.update_yaxes(title_text = \"Distance From Home\",  \n",
    "                 title_font_family = \"Arial\", \n",
    "                 title_font_size = 15,\n",
    "                 title_font_color = \"DarkMagenta\")\n",
    "\n",
    "fig.show()"
   ]
  },
  {
   "cell_type": "markdown",
   "id": "8b0da889",
   "metadata": {},
   "source": [
    "#### Summary \n",
    "#### From the graph above, it shows that generally people who stay fat way from the company have less attrition compared to those who stay closer. In terms of job role, Manager's and Research Director's attrtion rates seem not to be affected by distance from hone. Laboratory Technocian, Research Scientist and Sales Executive have high attrition rates. This could be because of their large numbers."
   ]
  },
  {
   "cell_type": "code",
   "execution_count": null,
   "id": "e00b814d",
   "metadata": {},
   "outputs": [],
   "source": [
    "df.JobRole.value_counts()"
   ]
  },
  {
   "cell_type": "markdown",
   "id": "e41f763c",
   "metadata": {},
   "source": [
    "## Compare average monthly income by education and attrition."
   ]
  },
  {
   "cell_type": "code",
   "execution_count": null,
   "id": "68669bb4",
   "metadata": {
    "scrolled": true
   },
   "outputs": [],
   "source": [
    "avg = df.groupby([\"Education\", \"Attrition\"])[\"MonthlyIncome\"].mean().reset_index()\n",
    "avg"
   ]
  },
  {
   "cell_type": "markdown",
   "id": "74610d3b",
   "metadata": {},
   "source": [
    "### Visualizing from Q2"
   ]
  },
  {
   "cell_type": "code",
   "execution_count": null,
   "id": "0d092086",
   "metadata": {},
   "outputs": [],
   "source": [
    "fig = px.bar(avg, x = \"Education\", y = \"MonthlyIncome\", color = \"Attrition\", barmode = \"relative\",\n",
    "                 hover_data = [\"Education\",\"MonthlyIncome\"], height = 500)\n",
    "\n",
    "# Reusing the previous layout template\n",
    "fig.update_layout(legend = dict(bgcolor = \"LemonChiffon\", orientation = \"v\"), \n",
    "                  plot_bgcolor = \"LemonChiffon\")\n",
    "\n",
    "fig.update_layout(title = dict(text = \"Average Monthly Income comparison with Education\",\n",
    "                                  font = dict(family = \"Balto\", color = \"DarkMagenta\", size = 26)))\n",
    "\n",
    "fig.update_xaxes(title_text= \"Education\",title_font_family = \"Arial\", title_font_size = 15,\n",
    "                 title_font_color = \"DarkMagenta\")\n",
    "\n",
    "fig.update_yaxes(title_text= \"MonthlyIncome\", title_font_size = 15,\n",
    "                 title_font_family= \"Arial\", title_font_color = \"DarkMagenta\")\n",
    "\n",
    "fig.show()\n"
   ]
  },
  {
   "cell_type": "markdown",
   "id": "72deeadf",
   "metadata": {},
   "source": [
    "### Summary from the graph\n",
    "#### The graph shows that employees with higher educational qualifications tend to leave the company more as compared to those with lower education. IIn terms of monthly income, the same thing applies, that is, highly quaified employees earn bigger salaries, and are more likely to leave the company"
   ]
  },
  {
   "cell_type": "code",
   "execution_count": null,
   "id": "e43ca3a5",
   "metadata": {},
   "outputs": [],
   "source": []
  }
 ],
 "metadata": {
  "kernelspec": {
   "display_name": "Python 3",
   "language": "python",
   "name": "python3"
  },
  "language_info": {
   "codemirror_mode": {
    "name": "ipython",
    "version": 3
   },
   "file_extension": ".py",
   "mimetype": "text/x-python",
   "name": "python",
   "nbconvert_exporter": "python",
   "pygments_lexer": "ipython3",
   "version": "3.8.8"
  }
 },
 "nbformat": 4,
 "nbformat_minor": 5
}
